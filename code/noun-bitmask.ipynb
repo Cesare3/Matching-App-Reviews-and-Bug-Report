{
 "cells": [
  {
   "cell_type": "code",
   "execution_count": 1,
   "id": "6d43b129",
   "metadata": {
    "_cell_guid": "b1076dfc-b9ad-4769-8c92-a6c4dae69d19",
    "_uuid": "8f2839f25d086af736a60e9eeb907d3b93b6e0e5",
    "collapsed": true,
    "execution": {
     "iopub.execute_input": "2022-04-15T13:12:32.870918Z",
     "iopub.status.busy": "2022-04-15T13:12:32.869423Z",
     "iopub.status.idle": "2022-04-15T13:12:42.182015Z",
     "shell.execute_reply": "2022-04-15T13:12:42.181342Z",
     "shell.execute_reply.started": "2022-04-14T16:13:43.250319Z"
    },
    "jupyter": {
     "outputs_hidden": true
    },
    "papermill": {
     "duration": 9.334231,
     "end_time": "2022-04-15T13:12:42.182190",
     "exception": false,
     "start_time": "2022-04-15T13:12:32.847959",
     "status": "completed"
    },
    "tags": []
   },
   "outputs": [
    {
     "name": "stdout",
     "output_type": "stream",
     "text": [
      "Requirement already satisfied: transformers[sentencepiece] in /opt/conda/lib/python3.7/site-packages (4.16.2)\r\n",
      "Requirement already satisfied: numpy>=1.17 in /opt/conda/lib/python3.7/site-packages (from transformers[sentencepiece]) (1.20.3)\r\n",
      "Requirement already satisfied: importlib-metadata in /opt/conda/lib/python3.7/site-packages (from transformers[sentencepiece]) (4.11.3)\r\n",
      "Requirement already satisfied: requests in /opt/conda/lib/python3.7/site-packages (from transformers[sentencepiece]) (2.26.0)\r\n",
      "Requirement already satisfied: tokenizers!=0.11.3,>=0.10.1 in /opt/conda/lib/python3.7/site-packages (from transformers[sentencepiece]) (0.11.6)\r\n",
      "Requirement already satisfied: packaging>=20.0 in /opt/conda/lib/python3.7/site-packages (from transformers[sentencepiece]) (21.3)\r\n",
      "Requirement already satisfied: pyyaml>=5.1 in /opt/conda/lib/python3.7/site-packages (from transformers[sentencepiece]) (6.0)\r\n",
      "Requirement already satisfied: regex!=2019.12.17 in /opt/conda/lib/python3.7/site-packages (from transformers[sentencepiece]) (2021.11.10)\r\n",
      "Requirement already satisfied: filelock in /opt/conda/lib/python3.7/site-packages (from transformers[sentencepiece]) (3.6.0)\r\n",
      "Requirement already satisfied: tqdm>=4.27 in /opt/conda/lib/python3.7/site-packages (from transformers[sentencepiece]) (4.62.3)\r\n",
      "Requirement already satisfied: sacremoses in /opt/conda/lib/python3.7/site-packages (from transformers[sentencepiece]) (0.0.49)\r\n",
      "Requirement already satisfied: huggingface-hub<1.0,>=0.1.0 in /opt/conda/lib/python3.7/site-packages (from transformers[sentencepiece]) (0.4.0)\r\n",
      "Requirement already satisfied: protobuf in /opt/conda/lib/python3.7/site-packages (from transformers[sentencepiece]) (3.19.4)\r\n",
      "Requirement already satisfied: sentencepiece!=0.1.92,>=0.1.91 in /opt/conda/lib/python3.7/site-packages (from transformers[sentencepiece]) (0.1.96)\r\n",
      "Requirement already satisfied: typing-extensions>=3.7.4.3 in /opt/conda/lib/python3.7/site-packages (from huggingface-hub<1.0,>=0.1.0->transformers[sentencepiece]) (4.1.1)\r\n",
      "Requirement already satisfied: pyparsing!=3.0.5,>=2.0.2 in /opt/conda/lib/python3.7/site-packages (from packaging>=20.0->transformers[sentencepiece]) (3.0.6)\r\n",
      "Requirement already satisfied: zipp>=0.5 in /opt/conda/lib/python3.7/site-packages (from importlib-metadata->transformers[sentencepiece]) (3.6.0)\r\n",
      "Requirement already satisfied: idna<4,>=2.5 in /opt/conda/lib/python3.7/site-packages (from requests->transformers[sentencepiece]) (3.1)\r\n",
      "Requirement already satisfied: charset-normalizer~=2.0.0 in /opt/conda/lib/python3.7/site-packages (from requests->transformers[sentencepiece]) (2.0.9)\r\n",
      "Requirement already satisfied: urllib3<1.27,>=1.21.1 in /opt/conda/lib/python3.7/site-packages (from requests->transformers[sentencepiece]) (1.26.7)\r\n",
      "Requirement already satisfied: certifi>=2017.4.17 in /opt/conda/lib/python3.7/site-packages (from requests->transformers[sentencepiece]) (2021.10.8)\r\n",
      "Requirement already satisfied: six in /opt/conda/lib/python3.7/site-packages (from sacremoses->transformers[sentencepiece]) (1.16.0)\r\n",
      "Requirement already satisfied: click in /opt/conda/lib/python3.7/site-packages (from sacremoses->transformers[sentencepiece]) (8.0.3)\r\n",
      "Requirement already satisfied: joblib in /opt/conda/lib/python3.7/site-packages (from sacremoses->transformers[sentencepiece]) (1.1.0)\r\n",
      "\u001b[33mWARNING: Running pip as the 'root' user can result in broken permissions and conflicting behaviour with the system package manager. It is recommended to use a virtual environment instead: https://pip.pypa.io/warnings/venv\u001b[0m\r\n"
     ]
    }
   ],
   "source": [
    "!pip install transformers[sentencepiece]"
   ]
  },
  {
   "cell_type": "code",
   "execution_count": 2,
   "id": "e3855197",
   "metadata": {
    "execution": {
     "iopub.execute_input": "2022-04-15T13:12:42.226851Z",
     "iopub.status.busy": "2022-04-15T13:12:42.225989Z",
     "iopub.status.idle": "2022-04-15T13:12:42.234943Z",
     "shell.execute_reply": "2022-04-15T13:12:42.234502Z",
     "shell.execute_reply.started": "2022-04-14T16:13:53.704238Z"
    },
    "papermill": {
     "duration": 0.030751,
     "end_time": "2022-04-15T13:12:42.235054",
     "exception": false,
     "start_time": "2022-04-15T13:12:42.204303",
     "status": "completed"
    },
    "tags": []
   },
   "outputs": [
    {
     "name": "stdout",
     "output_type": "stream",
     "text": [
      "/kaggle/input/dataset-of-df\n"
     ]
    }
   ],
   "source": [
    "cd ../input/dataset-of-df"
   ]
  },
  {
   "cell_type": "code",
   "execution_count": 3,
   "id": "ea60c2a0",
   "metadata": {
    "collapsed": true,
    "execution": {
     "iopub.execute_input": "2022-04-15T13:12:42.277330Z",
     "iopub.status.busy": "2022-04-15T13:12:42.276753Z",
     "iopub.status.idle": "2022-04-15T13:13:01.103535Z",
     "shell.execute_reply": "2022-04-15T13:13:01.103023Z",
     "shell.execute_reply.started": "2022-04-14T16:13:53.714448Z"
    },
    "jupyter": {
     "outputs_hidden": true
    },
    "papermill": {
     "duration": 18.850131,
     "end_time": "2022-04-15T13:13:01.103699",
     "exception": false,
     "start_time": "2022-04-15T13:12:42.253568",
     "status": "completed"
    },
    "tags": []
   },
   "outputs": [
    {
     "data": {
      "application/vnd.jupyter.widget-view+json": {
       "model_id": "08c5661f0d7b499e9df9b567c9385800",
       "version_major": 2,
       "version_minor": 0
      },
      "text/plain": [
       "Downloading:   0%|          | 0.00/1.17k [00:00<?, ?B/s]"
      ]
     },
     "metadata": {},
     "output_type": "display_data"
    },
    {
     "data": {
      "application/vnd.jupyter.widget-view+json": {
       "model_id": "fd37cc61e50442e3ac6b61d9921845f2",
       "version_major": 2,
       "version_minor": 0
      },
      "text/plain": [
       "Downloading:   0%|          | 0.00/231M [00:00<?, ?B/s]"
      ]
     },
     "metadata": {},
     "output_type": "display_data"
    },
    {
     "name": "stderr",
     "output_type": "stream",
     "text": [
      "Some weights of the model checkpoint at t5-small were not used when initializing T5EncoderModel: ['decoder.block.4.layer.0.SelfAttention.v.weight', 'decoder.block.5.layer.0.SelfAttention.q.weight', 'decoder.block.1.layer.1.layer_norm.weight', 'decoder.block.0.layer.2.DenseReluDense.wi.weight', 'decoder.block.0.layer.0.SelfAttention.v.weight', 'decoder.block.5.layer.2.DenseReluDense.wi.weight', 'decoder.block.0.layer.1.EncDecAttention.v.weight', 'decoder.block.3.layer.2.layer_norm.weight', 'decoder.block.5.layer.2.DenseReluDense.wo.weight', 'decoder.block.2.layer.2.DenseReluDense.wi.weight', 'decoder.block.1.layer.2.DenseReluDense.wi.weight', 'decoder.block.4.layer.2.DenseReluDense.wi.weight', 'decoder.block.5.layer.0.SelfAttention.o.weight', 'decoder.block.4.layer.0.SelfAttention.o.weight', 'decoder.block.3.layer.0.SelfAttention.o.weight', 'decoder.block.5.layer.0.SelfAttention.v.weight', 'decoder.block.2.layer.0.SelfAttention.q.weight', 'decoder.block.0.layer.1.layer_norm.weight', 'decoder.block.1.layer.2.DenseReluDense.wo.weight', 'decoder.block.3.layer.1.EncDecAttention.v.weight', 'decoder.block.2.layer.0.SelfAttention.o.weight', 'decoder.block.4.layer.2.DenseReluDense.wo.weight', 'decoder.block.4.layer.0.SelfAttention.k.weight', 'decoder.block.1.layer.0.SelfAttention.v.weight', 'decoder.block.4.layer.1.EncDecAttention.q.weight', 'decoder.block.4.layer.1.layer_norm.weight', 'decoder.block.0.layer.0.SelfAttention.k.weight', 'decoder.block.1.layer.0.SelfAttention.q.weight', 'decoder.block.0.layer.0.SelfAttention.q.weight', 'decoder.block.5.layer.0.layer_norm.weight', 'decoder.block.5.layer.1.layer_norm.weight', 'decoder.block.0.layer.2.DenseReluDense.wo.weight', 'decoder.block.0.layer.1.EncDecAttention.o.weight', 'decoder.block.5.layer.1.EncDecAttention.k.weight', 'decoder.block.4.layer.1.EncDecAttention.v.weight', 'decoder.block.2.layer.1.layer_norm.weight', 'decoder.block.3.layer.0.SelfAttention.v.weight', 'decoder.block.2.layer.1.EncDecAttention.q.weight', 'decoder.block.0.layer.0.SelfAttention.relative_attention_bias.weight', 'decoder.block.2.layer.1.EncDecAttention.o.weight', 'decoder.block.2.layer.2.layer_norm.weight', 'decoder.block.1.layer.2.layer_norm.weight', 'decoder.block.2.layer.0.SelfAttention.v.weight', 'decoder.block.2.layer.2.DenseReluDense.wo.weight', 'decoder.block.5.layer.1.EncDecAttention.o.weight', 'decoder.block.3.layer.0.layer_norm.weight', 'decoder.block.3.layer.0.SelfAttention.q.weight', 'decoder.block.0.layer.0.layer_norm.weight', 'decoder.block.1.layer.1.EncDecAttention.k.weight', 'decoder.block.0.layer.1.EncDecAttention.relative_attention_bias.weight', 'decoder.block.3.layer.1.layer_norm.weight', 'decoder.block.0.layer.0.SelfAttention.o.weight', 'decoder.block.3.layer.0.SelfAttention.k.weight', 'decoder.block.3.layer.1.EncDecAttention.o.weight', 'decoder.block.1.layer.1.EncDecAttention.q.weight', 'decoder.block.0.layer.2.layer_norm.weight', 'decoder.block.5.layer.2.layer_norm.weight', 'decoder.block.0.layer.1.EncDecAttention.k.weight', 'decoder.block.5.layer.1.EncDecAttention.q.weight', 'decoder.block.3.layer.2.DenseReluDense.wo.weight', 'decoder.block.4.layer.2.layer_norm.weight', 'decoder.block.4.layer.0.layer_norm.weight', 'decoder.block.1.layer.0.SelfAttention.o.weight', 'decoder.block.4.layer.0.SelfAttention.q.weight', 'decoder.block.5.layer.0.SelfAttention.k.weight', 'decoder.block.4.layer.1.EncDecAttention.k.weight', 'decoder.block.3.layer.1.EncDecAttention.q.weight', 'decoder.block.2.layer.0.SelfAttention.k.weight', 'decoder.block.3.layer.2.DenseReluDense.wi.weight', 'decoder.block.2.layer.1.EncDecAttention.k.weight', 'decoder.block.4.layer.1.EncDecAttention.o.weight', 'decoder.block.2.layer.0.layer_norm.weight', 'decoder.block.1.layer.0.SelfAttention.k.weight', 'decoder.block.1.layer.0.layer_norm.weight', 'decoder.block.1.layer.1.EncDecAttention.v.weight', 'decoder.block.3.layer.1.EncDecAttention.k.weight', 'decoder.final_layer_norm.weight', 'decoder.block.5.layer.1.EncDecAttention.v.weight', 'decoder.block.2.layer.1.EncDecAttention.v.weight', 'decoder.block.0.layer.1.EncDecAttention.q.weight', 'decoder.block.1.layer.1.EncDecAttention.o.weight']\n",
      "- This IS expected if you are initializing T5EncoderModel from the checkpoint of a model trained on another task or with another architecture (e.g. initializing a BertForSequenceClassification model from a BertForPreTraining model).\n",
      "- This IS NOT expected if you are initializing T5EncoderModel from the checkpoint of a model that you expect to be exactly identical (initializing a BertForSequenceClassification model from a BertForSequenceClassification model).\n",
      "Some weights of T5EncoderModel were not initialized from the model checkpoint at t5-small and are newly initialized: ['encoder.embed_tokens.weight']\n",
      "You should probably TRAIN this model on a down-stream task to be able to use it for predictions and inference.\n"
     ]
    },
    {
     "data": {
      "application/vnd.jupyter.widget-view+json": {
       "model_id": "d0de16bce5e6470aa96e28fe2e244391",
       "version_major": 2,
       "version_minor": 0
      },
      "text/plain": [
       "Downloading:   0%|          | 0.00/773k [00:00<?, ?B/s]"
      ]
     },
     "metadata": {},
     "output_type": "display_data"
    },
    {
     "data": {
      "application/vnd.jupyter.widget-view+json": {
       "model_id": "9b48a1f5c11f43cca0d1ef11c1d0ef9c",
       "version_major": 2,
       "version_minor": 0
      },
      "text/plain": [
       "Downloading:   0%|          | 0.00/1.32M [00:00<?, ?B/s]"
      ]
     },
     "metadata": {},
     "output_type": "display_data"
    }
   ],
   "source": [
    "from transformers import T5Tokenizer, T5EncoderModel\n",
    "import torch\n",
    "import pandas as pd\n",
    "import spacy\n",
    "review = pd.read_csv(\"df_app_reviews.csv\")\n",
    "iss = pd.read_csv(\"df_app_issue.csv\",encoding=\"ISO-8859-1\")\n",
    "model = T5EncoderModel.from_pretrained(\"t5-small\")\n",
    "tokenizer = T5Tokenizer.from_pretrained(\"t5-small\")"
   ]
  },
  {
   "cell_type": "code",
   "execution_count": 4,
   "id": "35ef06fe",
   "metadata": {
    "execution": {
     "iopub.execute_input": "2022-04-15T13:13:08.601713Z",
     "iopub.status.busy": "2022-04-15T13:13:01.153527Z",
     "iopub.status.idle": "2022-04-15T13:13:08.609379Z",
     "shell.execute_reply": "2022-04-15T13:13:08.609843Z",
     "shell.execute_reply.started": "2022-04-14T16:14:24.606524Z"
    },
    "papermill": {
     "duration": 7.48423,
     "end_time": "2022-04-15T13:13:08.610001",
     "exception": false,
     "start_time": "2022-04-15T13:13:01.125771",
     "status": "completed"
    },
    "tags": []
   },
   "outputs": [
    {
     "name": "stderr",
     "output_type": "stream",
     "text": [
      "2022-04-15 13:13:01.154814: I tensorflow/core/platform/cpu_feature_guard.cc:142] This TensorFlow binary is optimized with oneAPI Deep Neural Network Library (oneDNN) to use the following CPU instructions in performance-critical operations:  AVX2 AVX512F FMA\n",
      "To enable them in other operations, rebuild TensorFlow with the appropriate compiler flags.\n",
      "2022-04-15 13:13:01.170079: I tensorflow/stream_executor/cuda/cuda_gpu_executor.cc:937] successful NUMA node read from SysFS had negative value (-1), but there must be at least one NUMA node, so returning NUMA node zero\n",
      "2022-04-15 13:13:01.171410: I tensorflow/stream_executor/cuda/cuda_gpu_executor.cc:937] successful NUMA node read from SysFS had negative value (-1), but there must be at least one NUMA node, so returning NUMA node zero\n",
      "2022-04-15 13:13:01.172177: I tensorflow/stream_executor/cuda/cuda_gpu_executor.cc:937] successful NUMA node read from SysFS had negative value (-1), but there must be at least one NUMA node, so returning NUMA node zero\n",
      "2022-04-15 13:13:08.593457: I tensorflow/stream_executor/cuda/cuda_gpu_executor.cc:937] successful NUMA node read from SysFS had negative value (-1), but there must be at least one NUMA node, so returning NUMA node zero\n",
      "2022-04-15 13:13:08.594353: I tensorflow/stream_executor/cuda/cuda_gpu_executor.cc:937] successful NUMA node read from SysFS had negative value (-1), but there must be at least one NUMA node, so returning NUMA node zero\n",
      "2022-04-15 13:13:08.595003: I tensorflow/stream_executor/cuda/cuda_gpu_executor.cc:937] successful NUMA node read from SysFS had negative value (-1), but there must be at least one NUMA node, so returning NUMA node zero\n",
      "2022-04-15 13:13:08.595574: I tensorflow/core/common_runtime/gpu/gpu_device.cc:1510] Created device /device:GPU:0 with 14599 MB memory:  -> device: 0, name: Tesla P100-PCIE-16GB, pci bus id: 0000:00:04.0, compute capability: 6.0\n"
     ]
    },
    {
     "data": {
      "text/plain": [
       "[name: \"/device:CPU:0\"\n",
       " device_type: \"CPU\"\n",
       " memory_limit: 268435456\n",
       " locality {\n",
       " }\n",
       " incarnation: 14608908713495367101,\n",
       " name: \"/device:GPU:0\"\n",
       " device_type: \"GPU\"\n",
       " memory_limit: 15308947456\n",
       " locality {\n",
       "   bus_id: 1\n",
       "   links {\n",
       "   }\n",
       " }\n",
       " incarnation: 13833413241001219553\n",
       " physical_device_desc: \"device: 0, name: Tesla P100-PCIE-16GB, pci bus id: 0000:00:04.0, compute capability: 6.0\"]"
      ]
     },
     "execution_count": 4,
     "metadata": {},
     "output_type": "execute_result"
    }
   ],
   "source": [
    "import os\n",
    "import tensorflow as tf\n",
    "from tensorflow.python.client import device_lib\n",
    "device_lib.list_local_devices()\n",
    "# os.environ[\"CUDA_VISIBLE_DEVICES\"] = \"0\""
   ]
  },
  {
   "cell_type": "code",
   "execution_count": 5,
   "id": "bdc85ce5",
   "metadata": {
    "execution": {
     "iopub.execute_input": "2022-04-15T13:13:08.667452Z",
     "iopub.status.busy": "2022-04-15T13:13:08.666560Z",
     "iopub.status.idle": "2022-04-15T13:13:08.668770Z",
     "shell.execute_reply": "2022-04-15T13:13:08.669210Z",
     "shell.execute_reply.started": "2022-04-14T16:14:24.63176Z"
    },
    "papermill": {
     "duration": 0.038233,
     "end_time": "2022-04-15T13:13:08.669340",
     "exception": false,
     "start_time": "2022-04-15T13:13:08.631107",
     "status": "completed"
    },
    "tags": []
   },
   "outputs": [],
   "source": [
    "feedback = review.nextcloud.unique()\n",
    "issue = iss.nextcloud.unique()"
   ]
  },
  {
   "cell_type": "code",
   "execution_count": 6,
   "id": "9d2fff84",
   "metadata": {
    "execution": {
     "iopub.execute_input": "2022-04-15T13:13:08.716638Z",
     "iopub.status.busy": "2022-04-15T13:13:08.715851Z",
     "iopub.status.idle": "2022-04-15T13:13:08.718731Z",
     "shell.execute_reply": "2022-04-15T13:13:08.719176Z",
     "shell.execute_reply.started": "2022-04-14T16:14:24.654826Z"
    },
    "papermill": {
     "duration": 0.028417,
     "end_time": "2022-04-15T13:13:08.719309",
     "exception": false,
     "start_time": "2022-04-15T13:13:08.690892",
     "status": "completed"
    },
    "tags": []
   },
   "outputs": [
    {
     "data": {
      "text/plain": [
       "50"
      ]
     },
     "execution_count": 6,
     "metadata": {},
     "output_type": "execute_result"
    }
   ],
   "source": [
    "len(feedback)"
   ]
  },
  {
   "cell_type": "code",
   "execution_count": 7,
   "id": "1dc530fc",
   "metadata": {
    "execution": {
     "iopub.execute_input": "2022-04-15T13:13:08.769740Z",
     "iopub.status.busy": "2022-04-15T13:13:08.768997Z",
     "iopub.status.idle": "2022-04-15T13:13:08.771211Z",
     "shell.execute_reply": "2022-04-15T13:13:08.771597Z",
     "shell.execute_reply.started": "2022-04-14T16:14:24.661504Z"
    },
    "papermill": {
     "duration": 0.030858,
     "end_time": "2022-04-15T13:13:08.771734",
     "exception": false,
     "start_time": "2022-04-15T13:13:08.740876",
     "status": "completed"
    },
    "tags": []
   },
   "outputs": [],
   "source": [
    "def spacy_fenxi(words):\n",
    "    nlp = spacy.load(\"en_core_web_sm\")\n",
    "#     nlp = spacy.load('en')\n",
    "    doc = nlp(words)\n",
    "    l = len(doc)\n",
    "#     print(len(doc))\n",
    "    # print(doc)\n",
    "#     print(type(doc))\n",
    "    list1 = [0 for i in range(l)] #初始化全0列表\n",
    "    # print(type(doc)) #<class 'spacy.tokens.doc.Doc'>\n",
    "    i=0\n",
    "    list2 = []\n",
    "\n",
    "    for token in doc:\n",
    "#         print(token, token.pos_, token.pos, token.tag, token.tag_)\n",
    "        if(len(str(token))!=1):\n",
    "          list2.append('▁'+str(token))\n",
    "        else:\n",
    "          list2.append(str(token))\n",
    "        if(token.pos == 92 or token.pos == 100):\n",
    "          list1[i] = 1 #名词动词设为1\n",
    "          i = i+1\n",
    "        else:\n",
    "          i = i+1\n",
    "    return list1,list2"
   ]
  },
  {
   "cell_type": "code",
   "execution_count": 8,
   "id": "edaa12a3",
   "metadata": {
    "execution": {
     "iopub.execute_input": "2022-04-15T13:13:08.831938Z",
     "iopub.status.busy": "2022-04-15T13:13:08.831068Z",
     "iopub.status.idle": "2022-04-15T13:13:08.833062Z",
     "shell.execute_reply": "2022-04-15T13:13:08.833836Z",
     "shell.execute_reply.started": "2022-04-14T16:14:24.676784Z"
    },
    "papermill": {
     "duration": 0.039517,
     "end_time": "2022-04-15T13:13:08.834075",
     "exception": false,
     "start_time": "2022-04-15T13:13:08.794558",
     "status": "completed"
    },
    "tags": []
   },
   "outputs": [],
   "source": [
    "subword = ''\n",
    "def t5_bitmask(words):\n",
    "    global subword\n",
    "    # tokenize = T5Tokenizer.tokenize(txt)\n",
    "    inputs2 = tokenizer(words, return_tensors=\"pt\").input_ids\n",
    "    tokens2 = tokenizer.tokenize(words)\n",
    "    l = len(tokens2)\n",
    "\n",
    "    list3 = [0 for i in range(0,l)]\n",
    "    i=0\n",
    "    j=0\n",
    "\n",
    "    #tokens列表  标bitmask\n",
    "    while i < len(list1) :\n",
    "        if(list1[i] == 1):\n",
    "            # print([list2[i]])\n",
    "            j=i\n",
    "            token = tokens2[j]\n",
    "            if(list2[i] == token):\n",
    "                list3[j] = 1\n",
    "                i+=1\n",
    "                j+=1\n",
    "            else:\n",
    "                #先看没有拆分的话找一找\n",
    "                m=i\n",
    "                n=0\n",
    "                flag = 0  # 标志是否找到\n",
    "                while n < len(tokens2):\n",
    "                    # print(list2[m],tokens2[n])\n",
    "                    if (list2[m] == tokens2[n] and flag == 0):\n",
    "                        list3[n] = 2\n",
    "                        i+=1\n",
    "                        j=n\n",
    "                        flag=1\n",
    "                        break\n",
    "                        # m += 1\n",
    "                    else:\n",
    "                        n += 1\n",
    "                #拆分了的话再拼接着找一遍，\n",
    "                if(flag==0):  # 上一个循环没找到，代表拆分了.用是否包含子字符串的方法 in\n",
    "                    j=0\n",
    "                    # print(\"list2[i]:\", list2[i], \"tokens2[j]:\", tokens2[j], \"tokens2[j + 1]:\", tokens2[j + 1])\n",
    "                    #先找子字符串\n",
    "                    while(j<len(tokens2)-1):\n",
    "                        if (tokens2[j] in list2[i] and tokens2[j+1] in list2[i] and tokens2[j][0] == '▁') : #找到以下划线开头的子字符串\n",
    "                            subword = tokens2[j]\n",
    "                            list3[j] = 1\n",
    "                            break\n",
    "                        else:\n",
    "                            j+=1\n",
    "                    # subword = tokens2[j]\n",
    "                    while(subword != list2[i] and j<len(tokens2)-1):\n",
    "                        \n",
    "                        j=j+1\n",
    "                        subword +=tokens2[j]\n",
    "                        list3[j] = 1\n",
    "                    flag = 1\n",
    "                    i+=1\n",
    "                else:\n",
    "                    i+=1\n",
    "        else:\n",
    "            i+=1\n",
    "    return list3\n",
    "\n"
   ]
  },
  {
   "cell_type": "code",
   "execution_count": null,
   "id": "c91bf415",
   "metadata": {
    "papermill": {
     "duration": 0.039161,
     "end_time": "2022-04-15T13:13:08.910701",
     "exception": false,
     "start_time": "2022-04-15T13:13:08.871540",
     "status": "completed"
    },
    "tags": []
   },
   "outputs": [],
   "source": [
    "\n"
   ]
  },
  {
   "cell_type": "code",
   "execution_count": 9,
   "id": "0d65dff2",
   "metadata": {
    "execution": {
     "iopub.execute_input": "2022-04-15T13:13:08.999604Z",
     "iopub.status.busy": "2022-04-15T13:13:08.998879Z",
     "iopub.status.idle": "2022-04-15T13:13:09.001064Z",
     "shell.execute_reply": "2022-04-15T13:13:09.000329Z",
     "shell.execute_reply.started": "2022-04-14T16:14:24.696367Z"
    },
    "papermill": {
     "duration": 0.051861,
     "end_time": "2022-04-15T13:13:09.001226",
     "exception": false,
     "start_time": "2022-04-15T13:13:08.949365",
     "status": "completed"
    },
    "tags": []
   },
   "outputs": [],
   "source": [
    "import torch.nn as nn\n",
    "class ConineSimilarity(nn.Module):\n",
    "\n",
    "    def forward(self, tensor_1,tensor_2):\n",
    "        normalized_tensor_1=tensor_1/tensor_1.norm(dim=-1,keepdim=True)\n",
    "        normalized_tensor_2=tensor_2/tensor_2.norm(dim=-1,keepdim=True)\n",
    "        return (normalized_tensor_1*normalized_tensor_2).sum(dim=-1)\n",
    "\n",
    "con = ConineSimilarity()"
   ]
  },
  {
   "cell_type": "code",
   "execution_count": 10,
   "id": "3b66c4ce",
   "metadata": {
    "execution": {
     "iopub.execute_input": "2022-04-15T13:13:09.092706Z",
     "iopub.status.busy": "2022-04-15T13:13:09.073808Z",
     "iopub.status.idle": "2022-04-15T13:13:09.094803Z",
     "shell.execute_reply": "2022-04-15T13:13:09.095271Z",
     "shell.execute_reply.started": "2022-04-14T16:14:24.716604Z"
    },
    "papermill": {
     "duration": 0.058306,
     "end_time": "2022-04-15T13:13:09.095413",
     "exception": false,
     "start_time": "2022-04-15T13:13:09.037107",
     "status": "completed"
    },
    "tags": []
   },
   "outputs": [],
   "source": [
    "def getvec(words):\n",
    "  inputs = tokenizer(words, return_tensors=\"pt\").input_ids\n",
    "  outputs = model(inputs)\n",
    "  last_hidden_state = outputs.last_hidden_state\n",
    "  pooled_sentence = torch.mean(last_hidden_state, dim=1)\n",
    "\n",
    "  return pooled_sentence\n",
    "\n",
    "def search(words):\n",
    "    CS1 = con(pingjun,getvec(issue[0]))\n",
    "    CS2 = con(pingjun,getvec(issue[1]))\n",
    "    CS3 = con(pingjun,getvec(issue[2]))\n",
    "    Iss1 = issue[0]\n",
    "    Iss2 = issue[1]\n",
    "    Iss3 = issue[2]\n",
    "#     print(CS1,CS2,CS3)\n",
    "    max1 = max2 = max3=0\n",
    "    #先将前三个的相似度按顺序排好为max1,max2,max3\n",
    "    if(CS1>=CS2 and CS1>=CS3):\n",
    "      max1 = CS1\n",
    "      Iss1 = issue[0]\n",
    "      if(CS2 >= CS3):\n",
    "        max2 = CS2\n",
    "        Iss2 = issue[1]\n",
    "        max3 = CS3\n",
    "        Iss3 = issue[2]\n",
    "      else:\n",
    "        max2 = CS3\n",
    "        Iss2 = issue[2]\n",
    "        max3 = CS2\n",
    "        Iss3 = issue[1]\n",
    "    elif(CS2>=CS3 and CS2>=CS1):\n",
    "      max1 = CS2\n",
    "      Iss1 = issue[1]\n",
    "      if (CS3 >= CS1):\n",
    "        max2 = CS3\n",
    "        Iss2 = issue[2]\n",
    "        max3 = CS1\n",
    "        Iss3 = issue[0]\n",
    "      else:\n",
    "        max2 = CS1\n",
    "        Iss2 = issue[0]\n",
    "        max3 = CS3\n",
    "        Iss3 = issue[2]\n",
    "    elif(CS3>=CS2 and CS3>=CS1):\n",
    "      max1 = CS3\n",
    "      Iss1 = issue[2]\n",
    "      if (CS2 >= CS1):\n",
    "        max2 = CS2\n",
    "        Iss2 = issue[1]\n",
    "        max3 = CS1\n",
    "        Iss3 = issue[0]\n",
    "      else:\n",
    "        max2 = CS1\n",
    "        Iss2 = issue[0]\n",
    "        max3 = CS2\n",
    "        Iss3 = issue[1]\n",
    "    i=3 #计数器，从第三条开始计算\n",
    "    # 在比较剩下的和max1,max2,max3的大小\n",
    "    for iss in issue[3:]:\n",
    "      issvec = getvec(str(iss))\n",
    "      CS = con(pingjun,issvec)\n",
    "      if(CS > max3 and CS < max2):\n",
    "        max3 = CS\n",
    "        Iss3 = issue[i]\n",
    "      elif(CS >max3 and CS > max2 and CS < max1):\n",
    "        max3 = max2\n",
    "        Iss3 = Iss2\n",
    "        max2 = CS\n",
    "        Iss2 = issue[i]\n",
    "      elif(CS > max1):\n",
    "        max3 = max2\n",
    "        Iss3 = Iss2\n",
    "        max2 = max1\n",
    "        Iss2 = Iss1\n",
    "        max1 = CS\n",
    "        Iss1 = issue[i]\n",
    "\n",
    "      i=i+1\n",
    "\n",
    "#     print(max1,Iss1,max2,Iss2,max3,Iss3)\n",
    "    return words,max1,Iss1,max2,Iss2,max3,Iss3"
   ]
  },
  {
   "cell_type": "code",
   "execution_count": 11,
   "id": "4e6ebf12",
   "metadata": {
    "execution": {
     "iopub.execute_input": "2022-04-15T13:13:09.173703Z",
     "iopub.status.busy": "2022-04-15T13:13:09.172927Z",
     "iopub.status.idle": "2022-04-15T13:13:10.423522Z",
     "shell.execute_reply": "2022-04-15T13:13:10.423058Z",
     "shell.execute_reply.started": "2022-04-14T16:14:24.73675Z"
    },
    "papermill": {
     "duration": 1.295189,
     "end_time": "2022-04-15T13:13:10.423698",
     "exception": false,
     "start_time": "2022-04-15T13:13:09.128509",
     "status": "completed"
    },
    "tags": []
   },
   "outputs": [],
   "source": [
    "sentence = \"Not working on Pixel 4 XL stock Android 10, won't.let me log in. Provider is Google FI (not Fiber) with automatic VPN.......is that the issue?\"\n",
    "list1,list2 = spacy_fenxi(sentence)\n",
    "list3 = t5_bitmask(sentence)\n",
    "#bug report用名词位置的向量表示\n",
    "list3.append(0) #结尾有个</s> 要和last相乘\n",
    "noun_tensor = torch.tensor(list3).reshape(1,len(list3),1)\n",
    "# print(noun_tensor)\n",
    "input_ids = tokenizer(sentence, return_tensors=\"pt\").input_ids  # Batch size 1\n",
    "outputs = model(input_ids=input_ids)\n",
    "last_hidden_states = outputs.last_hidden_state\n",
    "#     print(last_hidden_states)\n",
    "res = noun_tensor * last_hidden_states\n",
    "#     print(res)\n",
    "#     print(res.shape)\n",
    "pingjun = torch.mean(res,dim=1)\n",
    "# pingjun = torch.mean(pingjun,dim=0)"
   ]
  },
  {
   "cell_type": "code",
   "execution_count": 12,
   "id": "161ec811",
   "metadata": {
    "execution": {
     "iopub.execute_input": "2022-04-15T13:13:10.475680Z",
     "iopub.status.busy": "2022-04-15T13:13:10.474565Z",
     "iopub.status.idle": "2022-04-15T13:14:13.135149Z",
     "shell.execute_reply": "2022-04-15T13:14:13.135818Z",
     "shell.execute_reply.started": "2022-04-14T16:14:25.785484Z"
    },
    "papermill": {
     "duration": 62.690627,
     "end_time": "2022-04-15T13:14:13.136022",
     "exception": false,
     "start_time": "2022-04-15T13:13:10.445395",
     "status": "completed"
    },
    "tags": []
   },
   "outputs": [
    {
     "name": "stdout",
     "output_type": "stream",
     "text": [
      "[\"Not working on Pixel 4 XL stock Android 10, won't.let me log in. Provider is Google FI (not Fiber) with automatic VPN.......is that the issue?\", \"Not working on Pixel 4 XL stock Android 10, won't.let me log in. Provider is Google FI (not Fiber) with automatic VPN.......is that the issue?\", \"Not working on Pixel 4 XL stock Android 10, won't.let me log in. Provider is Google FI (not Fiber) with automatic VPN.......is that the issue?\"]\n",
      "[\"Huawei mate 9 I can't get the automatic synchronization to work The problem of optimizing the battery remains on the screen even if it is set as not allowed The problem will be in emui 9.1.0 because for other mobile phone it works, how can I be helped for this bug  ?\", 'Can\\'t use the app anymore after update to 3.3: \"Wrong login details\"', 'Android (playstore) app will not log in to server 12.04 backend']\n",
      "[0.56580764, 0.55934674, 0.5555978]\n"
     ]
    }
   ],
   "source": [
    "words,max1,Iss1,max2,Iss2,max3,Iss3 =search(\"Not working on Pixel 4 XL stock Android 10, won't.let me log in. Provider is Google FI (not Fiber) with automatic VPN.......is that the issue?\")\n",
    "f = []\n",
    "i = []\n",
    "d = []\n",
    "\n",
    "f.append(words)\n",
    "f.append(words)\n",
    "f.append(words)\n",
    "i.append(Iss1)\n",
    "i.append(Iss2)\n",
    "i.append(Iss3)\n",
    "d.append(max1.detach().numpy()[0])\n",
    "d.append(max2.detach().numpy()[0])\n",
    "d.append(max3.detach().numpy()[0])\n",
    "\n",
    "print(f)\n",
    "print(i)\n",
    "print(d)"
   ]
  },
  {
   "cell_type": "code",
   "execution_count": 13,
   "id": "0f2e802b",
   "metadata": {
    "collapsed": true,
    "execution": {
     "iopub.execute_input": "2022-04-15T13:14:13.204996Z",
     "iopub.status.busy": "2022-04-15T13:14:13.200819Z",
     "iopub.status.idle": "2022-04-15T13:27:03.620875Z",
     "shell.execute_reply": "2022-04-15T13:27:03.622127Z",
     "shell.execute_reply.started": "2022-04-14T16:15:04.98479Z"
    },
    "jupyter": {
     "outputs_hidden": true
    },
    "papermill": {
     "duration": 770.463736,
     "end_time": "2022-04-15T13:27:03.622404",
     "exception": false,
     "start_time": "2022-04-15T13:14:13.158668",
     "status": "completed"
    },
    "tags": []
   },
   "outputs": [],
   "source": [
    "f = []\n",
    "i = []\n",
    "d = []\n",
    "\n",
    "feedback = review.vlc.unique()\n",
    "issue = iss.vcl.unique()\n",
    "\n",
    "for fb1 in feedback:\n",
    "  # CS1 = CS2 = CS3 = 0\n",
    "  # Iss1 = Iss2 = Iss3 = \"\"\n",
    "    sentence = fb1\n",
    "    list1,list2 = spacy_fenxi(sentence)\n",
    "    list3 = t5_bitmask(sentence)\n",
    "    #bug report用名词位置的向量表示\n",
    "    list3.append(0) #结尾有个</s> 要和last相乘\n",
    "    noun_tensor = torch.tensor(list3).reshape(1,len(list3),1)\n",
    "    # print(noun_tensor)\n",
    "    input_ids = tokenizer(sentence, return_tensors=\"pt\").input_ids  # Batch size 1\n",
    "    outputs = model(input_ids=input_ids)\n",
    "    last_hidden_states = outputs.last_hidden_state\n",
    "    #     print(last_hidden_states)\n",
    "    res = noun_tensor * last_hidden_states\n",
    "    #     print(res)\n",
    "    #     print(res.shape)\n",
    "    pingjun = torch.mean(res,dim=1)\n",
    "\n",
    "    words,max1,Iss1,max2,Iss2,max3,Iss3 =search(fb1)\n",
    "    f.append(words)\n",
    "    f.append(words)\n",
    "    f.append(words)\n",
    "    i.append(Iss1)\n",
    "    i.append(Iss2)\n",
    "    i.append(Iss3)\n",
    "    d.append(max1.detach().numpy()[0])\n",
    "    d.append(max2.detach().numpy()[0])\n",
    "    d.append(max3.detach().numpy()[0])\n"
   ]
  },
  {
   "cell_type": "code",
   "execution_count": 14,
   "id": "f357612b",
   "metadata": {
    "execution": {
     "iopub.execute_input": "2022-04-15T13:27:03.702416Z",
     "iopub.status.busy": "2022-04-15T13:27:03.701538Z",
     "iopub.status.idle": "2022-04-15T13:27:03.704936Z",
     "shell.execute_reply": "2022-04-15T13:27:03.703131Z",
     "shell.execute_reply.started": "2022-04-14T16:16:50.675576Z"
    },
    "papermill": {
     "duration": 0.046041,
     "end_time": "2022-04-15T13:27:03.705098",
     "exception": false,
     "start_time": "2022-04-15T13:27:03.659057",
     "status": "completed"
    },
    "tags": []
   },
   "outputs": [
    {
     "name": "stdout",
     "output_type": "stream",
     "text": [
      "/kaggle/working\n"
     ]
    }
   ],
   "source": [
    "cd /kaggle/working"
   ]
  },
  {
   "cell_type": "code",
   "execution_count": 15,
   "id": "75538769",
   "metadata": {
    "execution": {
     "iopub.execute_input": "2022-04-15T13:27:03.785685Z",
     "iopub.status.busy": "2022-04-15T13:27:03.784883Z",
     "iopub.status.idle": "2022-04-15T13:27:03.790080Z",
     "shell.execute_reply": "2022-04-15T13:27:03.791045Z",
     "shell.execute_reply.started": "2022-04-14T16:16:50.677377Z"
    },
    "papermill": {
     "duration": 0.050864,
     "end_time": "2022-04-15T13:27:03.791224",
     "exception": false,
     "start_time": "2022-04-15T13:27:03.740360",
     "status": "completed"
    },
    "tags": []
   },
   "outputs": [],
   "source": [
    "data = pd.DataFrame({'feedback':f,'issue':i,'distance':d})\n",
    "data.to_csv(\"vlc_result_bitmask-1-2.csv\",index=False)"
   ]
  },
  {
   "cell_type": "code",
   "execution_count": null,
   "id": "7e94bc91",
   "metadata": {
    "papermill": {
     "duration": 0.022582,
     "end_time": "2022-04-15T13:27:03.850517",
     "exception": false,
     "start_time": "2022-04-15T13:27:03.827935",
     "status": "completed"
    },
    "tags": []
   },
   "outputs": [],
   "source": []
  }
 ],
 "metadata": {
  "kernelspec": {
   "display_name": "Python 3",
   "language": "python",
   "name": "python3"
  },
  "language_info": {
   "codemirror_mode": {
    "name": "ipython",
    "version": 3
   },
   "file_extension": ".py",
   "mimetype": "text/x-python",
   "name": "python",
   "nbconvert_exporter": "python",
   "pygments_lexer": "ipython3",
   "version": "3.7.12"
  },
  "papermill": {
   "default_parameters": {},
   "duration": 882.728953,
   "end_time": "2022-04-15T13:27:07.338654",
   "environment_variables": {},
   "exception": null,
   "input_path": "__notebook__.ipynb",
   "output_path": "__notebook__.ipynb",
   "parameters": {},
   "start_time": "2022-04-15T13:12:24.609701",
   "version": "2.3.3"
  },
  "widgets": {
   "application/vnd.jupyter.widget-state+json": {
    "state": {
     "08c5661f0d7b499e9df9b567c9385800": {
      "model_module": "@jupyter-widgets/controls",
      "model_module_version": "1.5.0",
      "model_name": "HBoxModel",
      "state": {
       "_dom_classes": [],
       "_model_module": "@jupyter-widgets/controls",
       "_model_module_version": "1.5.0",
       "_model_name": "HBoxModel",
       "_view_count": null,
       "_view_module": "@jupyter-widgets/controls",
       "_view_module_version": "1.5.0",
       "_view_name": "HBoxView",
       "box_style": "",
       "children": [
        "IPY_MODEL_4f99d6c24fff4d2fb7e4f6b07da48e5b",
        "IPY_MODEL_cc286c5fd9954db6ba569b6a6033fbee",
        "IPY_MODEL_e4b2f692c04341de8f4679256d9cd9ed"
       ],
       "layout": "IPY_MODEL_89100ebe3a094159b0bbf626816d3252"
      }
     },
     "09d08a47b4c14db19e752a1489e75fc8": {
      "model_module": "@jupyter-widgets/controls",
      "model_module_version": "1.5.0",
      "model_name": "DescriptionStyleModel",
      "state": {
       "_model_module": "@jupyter-widgets/controls",
       "_model_module_version": "1.5.0",
       "_model_name": "DescriptionStyleModel",
       "_view_count": null,
       "_view_module": "@jupyter-widgets/base",
       "_view_module_version": "1.2.0",
       "_view_name": "StyleView",
       "description_width": ""
      }
     },
     "2268e5b35ce14e12b7bbe88fa3112667": {
      "model_module": "@jupyter-widgets/controls",
      "model_module_version": "1.5.0",
      "model_name": "ProgressStyleModel",
      "state": {
       "_model_module": "@jupyter-widgets/controls",
       "_model_module_version": "1.5.0",
       "_model_name": "ProgressStyleModel",
       "_view_count": null,
       "_view_module": "@jupyter-widgets/base",
       "_view_module_version": "1.2.0",
       "_view_name": "StyleView",
       "bar_color": null,
       "description_width": ""
      }
     },
     "28557a84178443df936e822cbd087b82": {
      "model_module": "@jupyter-widgets/controls",
      "model_module_version": "1.5.0",
      "model_name": "ProgressStyleModel",
      "state": {
       "_model_module": "@jupyter-widgets/controls",
       "_model_module_version": "1.5.0",
       "_model_name": "ProgressStyleModel",
       "_view_count": null,
       "_view_module": "@jupyter-widgets/base",
       "_view_module_version": "1.2.0",
       "_view_name": "StyleView",
       "bar_color": null,
       "description_width": ""
      }
     },
     "29ba6d9363bd40a9b03f96da3ffa79c3": {
      "model_module": "@jupyter-widgets/base",
      "model_module_version": "1.2.0",
      "model_name": "LayoutModel",
      "state": {
       "_model_module": "@jupyter-widgets/base",
       "_model_module_version": "1.2.0",
       "_model_name": "LayoutModel",
       "_view_count": null,
       "_view_module": "@jupyter-widgets/base",
       "_view_module_version": "1.2.0",
       "_view_name": "LayoutView",
       "align_content": null,
       "align_items": null,
       "align_self": null,
       "border": null,
       "bottom": null,
       "display": null,
       "flex": null,
       "flex_flow": null,
       "grid_area": null,
       "grid_auto_columns": null,
       "grid_auto_flow": null,
       "grid_auto_rows": null,
       "grid_column": null,
       "grid_gap": null,
       "grid_row": null,
       "grid_template_areas": null,
       "grid_template_columns": null,
       "grid_template_rows": null,
       "height": null,
       "justify_content": null,
       "justify_items": null,
       "left": null,
       "margin": null,
       "max_height": null,
       "max_width": null,
       "min_height": null,
       "min_width": null,
       "object_fit": null,
       "object_position": null,
       "order": null,
       "overflow": null,
       "overflow_x": null,
       "overflow_y": null,
       "padding": null,
       "right": null,
       "top": null,
       "visibility": null,
       "width": null
      }
     },
     "2e51773b9cb9490c8488cfd5f1570275": {
      "model_module": "@jupyter-widgets/base",
      "model_module_version": "1.2.0",
      "model_name": "LayoutModel",
      "state": {
       "_model_module": "@jupyter-widgets/base",
       "_model_module_version": "1.2.0",
       "_model_name": "LayoutModel",
       "_view_count": null,
       "_view_module": "@jupyter-widgets/base",
       "_view_module_version": "1.2.0",
       "_view_name": "LayoutView",
       "align_content": null,
       "align_items": null,
       "align_self": null,
       "border": null,
       "bottom": null,
       "display": null,
       "flex": null,
       "flex_flow": null,
       "grid_area": null,
       "grid_auto_columns": null,
       "grid_auto_flow": null,
       "grid_auto_rows": null,
       "grid_column": null,
       "grid_gap": null,
       "grid_row": null,
       "grid_template_areas": null,
       "grid_template_columns": null,
       "grid_template_rows": null,
       "height": null,
       "justify_content": null,
       "justify_items": null,
       "left": null,
       "margin": null,
       "max_height": null,
       "max_width": null,
       "min_height": null,
       "min_width": null,
       "object_fit": null,
       "object_position": null,
       "order": null,
       "overflow": null,
       "overflow_x": null,
       "overflow_y": null,
       "padding": null,
       "right": null,
       "top": null,
       "visibility": null,
       "width": null
      }
     },
     "2ebf091e613a488ba88a83db15c715a3": {
      "model_module": "@jupyter-widgets/base",
      "model_module_version": "1.2.0",
      "model_name": "LayoutModel",
      "state": {
       "_model_module": "@jupyter-widgets/base",
       "_model_module_version": "1.2.0",
       "_model_name": "LayoutModel",
       "_view_count": null,
       "_view_module": "@jupyter-widgets/base",
       "_view_module_version": "1.2.0",
       "_view_name": "LayoutView",
       "align_content": null,
       "align_items": null,
       "align_self": null,
       "border": null,
       "bottom": null,
       "display": null,
       "flex": null,
       "flex_flow": null,
       "grid_area": null,
       "grid_auto_columns": null,
       "grid_auto_flow": null,
       "grid_auto_rows": null,
       "grid_column": null,
       "grid_gap": null,
       "grid_row": null,
       "grid_template_areas": null,
       "grid_template_columns": null,
       "grid_template_rows": null,
       "height": null,
       "justify_content": null,
       "justify_items": null,
       "left": null,
       "margin": null,
       "max_height": null,
       "max_width": null,
       "min_height": null,
       "min_width": null,
       "object_fit": null,
       "object_position": null,
       "order": null,
       "overflow": null,
       "overflow_x": null,
       "overflow_y": null,
       "padding": null,
       "right": null,
       "top": null,
       "visibility": null,
       "width": null
      }
     },
     "4295c177f0ce4017b766eddfbdec88fc": {
      "model_module": "@jupyter-widgets/base",
      "model_module_version": "1.2.0",
      "model_name": "LayoutModel",
      "state": {
       "_model_module": "@jupyter-widgets/base",
       "_model_module_version": "1.2.0",
       "_model_name": "LayoutModel",
       "_view_count": null,
       "_view_module": "@jupyter-widgets/base",
       "_view_module_version": "1.2.0",
       "_view_name": "LayoutView",
       "align_content": null,
       "align_items": null,
       "align_self": null,
       "border": null,
       "bottom": null,
       "display": null,
       "flex": null,
       "flex_flow": null,
       "grid_area": null,
       "grid_auto_columns": null,
       "grid_auto_flow": null,
       "grid_auto_rows": null,
       "grid_column": null,
       "grid_gap": null,
       "grid_row": null,
       "grid_template_areas": null,
       "grid_template_columns": null,
       "grid_template_rows": null,
       "height": null,
       "justify_content": null,
       "justify_items": null,
       "left": null,
       "margin": null,
       "max_height": null,
       "max_width": null,
       "min_height": null,
       "min_width": null,
       "object_fit": null,
       "object_position": null,
       "order": null,
       "overflow": null,
       "overflow_x": null,
       "overflow_y": null,
       "padding": null,
       "right": null,
       "top": null,
       "visibility": null,
       "width": null
      }
     },
     "4f99d6c24fff4d2fb7e4f6b07da48e5b": {
      "model_module": "@jupyter-widgets/controls",
      "model_module_version": "1.5.0",
      "model_name": "HTMLModel",
      "state": {
       "_dom_classes": [],
       "_model_module": "@jupyter-widgets/controls",
       "_model_module_version": "1.5.0",
       "_model_name": "HTMLModel",
       "_view_count": null,
       "_view_module": "@jupyter-widgets/controls",
       "_view_module_version": "1.5.0",
       "_view_name": "HTMLView",
       "description": "",
       "description_tooltip": null,
       "layout": "IPY_MODEL_2ebf091e613a488ba88a83db15c715a3",
       "placeholder": "​",
       "style": "IPY_MODEL_09d08a47b4c14db19e752a1489e75fc8",
       "value": "Downloading: 100%"
      }
     },
     "511520ce3ddb46ddad8ff82793d968ac": {
      "model_module": "@jupyter-widgets/base",
      "model_module_version": "1.2.0",
      "model_name": "LayoutModel",
      "state": {
       "_model_module": "@jupyter-widgets/base",
       "_model_module_version": "1.2.0",
       "_model_name": "LayoutModel",
       "_view_count": null,
       "_view_module": "@jupyter-widgets/base",
       "_view_module_version": "1.2.0",
       "_view_name": "LayoutView",
       "align_content": null,
       "align_items": null,
       "align_self": null,
       "border": null,
       "bottom": null,
       "display": null,
       "flex": null,
       "flex_flow": null,
       "grid_area": null,
       "grid_auto_columns": null,
       "grid_auto_flow": null,
       "grid_auto_rows": null,
       "grid_column": null,
       "grid_gap": null,
       "grid_row": null,
       "grid_template_areas": null,
       "grid_template_columns": null,
       "grid_template_rows": null,
       "height": null,
       "justify_content": null,
       "justify_items": null,
       "left": null,
       "margin": null,
       "max_height": null,
       "max_width": null,
       "min_height": null,
       "min_width": null,
       "object_fit": null,
       "object_position": null,
       "order": null,
       "overflow": null,
       "overflow_x": null,
       "overflow_y": null,
       "padding": null,
       "right": null,
       "top": null,
       "visibility": null,
       "width": null
      }
     },
     "5f49f8e1c5cd4f3b8b715bdc7d0bb617": {
      "model_module": "@jupyter-widgets/controls",
      "model_module_version": "1.5.0",
      "model_name": "ProgressStyleModel",
      "state": {
       "_model_module": "@jupyter-widgets/controls",
       "_model_module_version": "1.5.0",
       "_model_name": "ProgressStyleModel",
       "_view_count": null,
       "_view_module": "@jupyter-widgets/base",
       "_view_module_version": "1.2.0",
       "_view_name": "StyleView",
       "bar_color": null,
       "description_width": ""
      }
     },
     "5fcfc6e91eb842baad0358b32a6d4151": {
      "model_module": "@jupyter-widgets/controls",
      "model_module_version": "1.5.0",
      "model_name": "DescriptionStyleModel",
      "state": {
       "_model_module": "@jupyter-widgets/controls",
       "_model_module_version": "1.5.0",
       "_model_name": "DescriptionStyleModel",
       "_view_count": null,
       "_view_module": "@jupyter-widgets/base",
       "_view_module_version": "1.2.0",
       "_view_name": "StyleView",
       "description_width": ""
      }
     },
     "5feff01c0f1041b09eeb6163ec3fe306": {
      "model_module": "@jupyter-widgets/controls",
      "model_module_version": "1.5.0",
      "model_name": "DescriptionStyleModel",
      "state": {
       "_model_module": "@jupyter-widgets/controls",
       "_model_module_version": "1.5.0",
       "_model_name": "DescriptionStyleModel",
       "_view_count": null,
       "_view_module": "@jupyter-widgets/base",
       "_view_module_version": "1.2.0",
       "_view_name": "StyleView",
       "description_width": ""
      }
     },
     "670337dc43264cabb07222956ed4e511": {
      "model_module": "@jupyter-widgets/controls",
      "model_module_version": "1.5.0",
      "model_name": "HTMLModel",
      "state": {
       "_dom_classes": [],
       "_model_module": "@jupyter-widgets/controls",
       "_model_module_version": "1.5.0",
       "_model_name": "HTMLModel",
       "_view_count": null,
       "_view_module": "@jupyter-widgets/controls",
       "_view_module_version": "1.5.0",
       "_view_name": "HTMLView",
       "description": "",
       "description_tooltip": null,
       "layout": "IPY_MODEL_e2fc0a079bef491d8c3f8c94f360fe2e",
       "placeholder": "​",
       "style": "IPY_MODEL_5feff01c0f1041b09eeb6163ec3fe306",
       "value": " 773k/773k [00:00&lt;00:00, 5.17MB/s]"
      }
     },
     "6b96365fc5d941e889b2f54260b6bee0": {
      "model_module": "@jupyter-widgets/controls",
      "model_module_version": "1.5.0",
      "model_name": "DescriptionStyleModel",
      "state": {
       "_model_module": "@jupyter-widgets/controls",
       "_model_module_version": "1.5.0",
       "_model_name": "DescriptionStyleModel",
       "_view_count": null,
       "_view_module": "@jupyter-widgets/base",
       "_view_module_version": "1.2.0",
       "_view_name": "StyleView",
       "description_width": ""
      }
     },
     "6f8dd9dc9a7848ff8014c7201f615f91": {
      "model_module": "@jupyter-widgets/base",
      "model_module_version": "1.2.0",
      "model_name": "LayoutModel",
      "state": {
       "_model_module": "@jupyter-widgets/base",
       "_model_module_version": "1.2.0",
       "_model_name": "LayoutModel",
       "_view_count": null,
       "_view_module": "@jupyter-widgets/base",
       "_view_module_version": "1.2.0",
       "_view_name": "LayoutView",
       "align_content": null,
       "align_items": null,
       "align_self": null,
       "border": null,
       "bottom": null,
       "display": null,
       "flex": null,
       "flex_flow": null,
       "grid_area": null,
       "grid_auto_columns": null,
       "grid_auto_flow": null,
       "grid_auto_rows": null,
       "grid_column": null,
       "grid_gap": null,
       "grid_row": null,
       "grid_template_areas": null,
       "grid_template_columns": null,
       "grid_template_rows": null,
       "height": null,
       "justify_content": null,
       "justify_items": null,
       "left": null,
       "margin": null,
       "max_height": null,
       "max_width": null,
       "min_height": null,
       "min_width": null,
       "object_fit": null,
       "object_position": null,
       "order": null,
       "overflow": null,
       "overflow_x": null,
       "overflow_y": null,
       "padding": null,
       "right": null,
       "top": null,
       "visibility": null,
       "width": null
      }
     },
     "6faee0bc0fa74058b6b19096dbb03bd7": {
      "model_module": "@jupyter-widgets/base",
      "model_module_version": "1.2.0",
      "model_name": "LayoutModel",
      "state": {
       "_model_module": "@jupyter-widgets/base",
       "_model_module_version": "1.2.0",
       "_model_name": "LayoutModel",
       "_view_count": null,
       "_view_module": "@jupyter-widgets/base",
       "_view_module_version": "1.2.0",
       "_view_name": "LayoutView",
       "align_content": null,
       "align_items": null,
       "align_self": null,
       "border": null,
       "bottom": null,
       "display": null,
       "flex": null,
       "flex_flow": null,
       "grid_area": null,
       "grid_auto_columns": null,
       "grid_auto_flow": null,
       "grid_auto_rows": null,
       "grid_column": null,
       "grid_gap": null,
       "grid_row": null,
       "grid_template_areas": null,
       "grid_template_columns": null,
       "grid_template_rows": null,
       "height": null,
       "justify_content": null,
       "justify_items": null,
       "left": null,
       "margin": null,
       "max_height": null,
       "max_width": null,
       "min_height": null,
       "min_width": null,
       "object_fit": null,
       "object_position": null,
       "order": null,
       "overflow": null,
       "overflow_x": null,
       "overflow_y": null,
       "padding": null,
       "right": null,
       "top": null,
       "visibility": null,
       "width": null
      }
     },
     "7217d084379c41ad9715affdb4f4cfdb": {
      "model_module": "@jupyter-widgets/controls",
      "model_module_version": "1.5.0",
      "model_name": "FloatProgressModel",
      "state": {
       "_dom_classes": [],
       "_model_module": "@jupyter-widgets/controls",
       "_model_module_version": "1.5.0",
       "_model_name": "FloatProgressModel",
       "_view_count": null,
       "_view_module": "@jupyter-widgets/controls",
       "_view_module_version": "1.5.0",
       "_view_name": "ProgressView",
       "bar_style": "success",
       "description": "",
       "description_tooltip": null,
       "layout": "IPY_MODEL_f49ea2d1581243a5b89241000063bc4e",
       "max": 1389353.0,
       "min": 0.0,
       "orientation": "horizontal",
       "style": "IPY_MODEL_b725302d38b546c790cdd0bad02bb658",
       "value": 1389353.0
      }
     },
     "7f97e95d6f0a4c41ae4f8d41516210eb": {
      "model_module": "@jupyter-widgets/controls",
      "model_module_version": "1.5.0",
      "model_name": "HTMLModel",
      "state": {
       "_dom_classes": [],
       "_model_module": "@jupyter-widgets/controls",
       "_model_module_version": "1.5.0",
       "_model_name": "HTMLModel",
       "_view_count": null,
       "_view_module": "@jupyter-widgets/controls",
       "_view_module_version": "1.5.0",
       "_view_name": "HTMLView",
       "description": "",
       "description_tooltip": null,
       "layout": "IPY_MODEL_f1e509c5fa144fb0a51d2c63b52e4524",
       "placeholder": "​",
       "style": "IPY_MODEL_5fcfc6e91eb842baad0358b32a6d4151",
       "value": "Downloading: 100%"
      }
     },
     "8036c2d9bcb74ad1a6963981de6e2b1f": {
      "model_module": "@jupyter-widgets/controls",
      "model_module_version": "1.5.0",
      "model_name": "DescriptionStyleModel",
      "state": {
       "_model_module": "@jupyter-widgets/controls",
       "_model_module_version": "1.5.0",
       "_model_name": "DescriptionStyleModel",
       "_view_count": null,
       "_view_module": "@jupyter-widgets/base",
       "_view_module_version": "1.2.0",
       "_view_name": "StyleView",
       "description_width": ""
      }
     },
     "89100ebe3a094159b0bbf626816d3252": {
      "model_module": "@jupyter-widgets/base",
      "model_module_version": "1.2.0",
      "model_name": "LayoutModel",
      "state": {
       "_model_module": "@jupyter-widgets/base",
       "_model_module_version": "1.2.0",
       "_model_name": "LayoutModel",
       "_view_count": null,
       "_view_module": "@jupyter-widgets/base",
       "_view_module_version": "1.2.0",
       "_view_name": "LayoutView",
       "align_content": null,
       "align_items": null,
       "align_self": null,
       "border": null,
       "bottom": null,
       "display": null,
       "flex": null,
       "flex_flow": null,
       "grid_area": null,
       "grid_auto_columns": null,
       "grid_auto_flow": null,
       "grid_auto_rows": null,
       "grid_column": null,
       "grid_gap": null,
       "grid_row": null,
       "grid_template_areas": null,
       "grid_template_columns": null,
       "grid_template_rows": null,
       "height": null,
       "justify_content": null,
       "justify_items": null,
       "left": null,
       "margin": null,
       "max_height": null,
       "max_width": null,
       "min_height": null,
       "min_width": null,
       "object_fit": null,
       "object_position": null,
       "order": null,
       "overflow": null,
       "overflow_x": null,
       "overflow_y": null,
       "padding": null,
       "right": null,
       "top": null,
       "visibility": null,
       "width": null
      }
     },
     "90a2d0e7d4954891a818805be5ab5745": {
      "model_module": "@jupyter-widgets/base",
      "model_module_version": "1.2.0",
      "model_name": "LayoutModel",
      "state": {
       "_model_module": "@jupyter-widgets/base",
       "_model_module_version": "1.2.0",
       "_model_name": "LayoutModel",
       "_view_count": null,
       "_view_module": "@jupyter-widgets/base",
       "_view_module_version": "1.2.0",
       "_view_name": "LayoutView",
       "align_content": null,
       "align_items": null,
       "align_self": null,
       "border": null,
       "bottom": null,
       "display": null,
       "flex": null,
       "flex_flow": null,
       "grid_area": null,
       "grid_auto_columns": null,
       "grid_auto_flow": null,
       "grid_auto_rows": null,
       "grid_column": null,
       "grid_gap": null,
       "grid_row": null,
       "grid_template_areas": null,
       "grid_template_columns": null,
       "grid_template_rows": null,
       "height": null,
       "justify_content": null,
       "justify_items": null,
       "left": null,
       "margin": null,
       "max_height": null,
       "max_width": null,
       "min_height": null,
       "min_width": null,
       "object_fit": null,
       "object_position": null,
       "order": null,
       "overflow": null,
       "overflow_x": null,
       "overflow_y": null,
       "padding": null,
       "right": null,
       "top": null,
       "visibility": null,
       "width": null
      }
     },
     "9b48a1f5c11f43cca0d1ef11c1d0ef9c": {
      "model_module": "@jupyter-widgets/controls",
      "model_module_version": "1.5.0",
      "model_name": "HBoxModel",
      "state": {
       "_dom_classes": [],
       "_model_module": "@jupyter-widgets/controls",
       "_model_module_version": "1.5.0",
       "_model_name": "HBoxModel",
       "_view_count": null,
       "_view_module": "@jupyter-widgets/controls",
       "_view_module_version": "1.5.0",
       "_view_name": "HBoxView",
       "box_style": "",
       "children": [
        "IPY_MODEL_7f97e95d6f0a4c41ae4f8d41516210eb",
        "IPY_MODEL_7217d084379c41ad9715affdb4f4cfdb",
        "IPY_MODEL_edb99927d3f846408f73e0b909d642f5"
       ],
       "layout": "IPY_MODEL_2e51773b9cb9490c8488cfd5f1570275"
      }
     },
     "9f359a7ca4314ad1bf26f13811dacf1a": {
      "model_module": "@jupyter-widgets/controls",
      "model_module_version": "1.5.0",
      "model_name": "FloatProgressModel",
      "state": {
       "_dom_classes": [],
       "_model_module": "@jupyter-widgets/controls",
       "_model_module_version": "1.5.0",
       "_model_name": "FloatProgressModel",
       "_view_count": null,
       "_view_module": "@jupyter-widgets/controls",
       "_view_module_version": "1.5.0",
       "_view_name": "ProgressView",
       "bar_style": "success",
       "description": "",
       "description_tooltip": null,
       "layout": "IPY_MODEL_29ba6d9363bd40a9b03f96da3ffa79c3",
       "max": 791656.0,
       "min": 0.0,
       "orientation": "horizontal",
       "style": "IPY_MODEL_28557a84178443df936e822cbd087b82",
       "value": 791656.0
      }
     },
     "a0b26a78e4a04c009a8f60c38877737e": {
      "model_module": "@jupyter-widgets/controls",
      "model_module_version": "1.5.0",
      "model_name": "DescriptionStyleModel",
      "state": {
       "_model_module": "@jupyter-widgets/controls",
       "_model_module_version": "1.5.0",
       "_model_name": "DescriptionStyleModel",
       "_view_count": null,
       "_view_module": "@jupyter-widgets/base",
       "_view_module_version": "1.2.0",
       "_view_name": "StyleView",
       "description_width": ""
      }
     },
     "a565c947f0b641b9b12a95edbe00b705": {
      "model_module": "@jupyter-widgets/base",
      "model_module_version": "1.2.0",
      "model_name": "LayoutModel",
      "state": {
       "_model_module": "@jupyter-widgets/base",
       "_model_module_version": "1.2.0",
       "_model_name": "LayoutModel",
       "_view_count": null,
       "_view_module": "@jupyter-widgets/base",
       "_view_module_version": "1.2.0",
       "_view_name": "LayoutView",
       "align_content": null,
       "align_items": null,
       "align_self": null,
       "border": null,
       "bottom": null,
       "display": null,
       "flex": null,
       "flex_flow": null,
       "grid_area": null,
       "grid_auto_columns": null,
       "grid_auto_flow": null,
       "grid_auto_rows": null,
       "grid_column": null,
       "grid_gap": null,
       "grid_row": null,
       "grid_template_areas": null,
       "grid_template_columns": null,
       "grid_template_rows": null,
       "height": null,
       "justify_content": null,
       "justify_items": null,
       "left": null,
       "margin": null,
       "max_height": null,
       "max_width": null,
       "min_height": null,
       "min_width": null,
       "object_fit": null,
       "object_position": null,
       "order": null,
       "overflow": null,
       "overflow_x": null,
       "overflow_y": null,
       "padding": null,
       "right": null,
       "top": null,
       "visibility": null,
       "width": null
      }
     },
     "aa3ad772a02e437e877edaad54006e0d": {
      "model_module": "@jupyter-widgets/controls",
      "model_module_version": "1.5.0",
      "model_name": "HTMLModel",
      "state": {
       "_dom_classes": [],
       "_model_module": "@jupyter-widgets/controls",
       "_model_module_version": "1.5.0",
       "_model_name": "HTMLModel",
       "_view_count": null,
       "_view_module": "@jupyter-widgets/controls",
       "_view_module_version": "1.5.0",
       "_view_name": "HTMLView",
       "description": "",
       "description_tooltip": null,
       "layout": "IPY_MODEL_511520ce3ddb46ddad8ff82793d968ac",
       "placeholder": "​",
       "style": "IPY_MODEL_ab6fd6895331422c9101010959a609f1",
       "value": "Downloading: 100%"
      }
     },
     "ab6fd6895331422c9101010959a609f1": {
      "model_module": "@jupyter-widgets/controls",
      "model_module_version": "1.5.0",
      "model_name": "DescriptionStyleModel",
      "state": {
       "_model_module": "@jupyter-widgets/controls",
       "_model_module_version": "1.5.0",
       "_model_name": "DescriptionStyleModel",
       "_view_count": null,
       "_view_module": "@jupyter-widgets/base",
       "_view_module_version": "1.2.0",
       "_view_name": "StyleView",
       "description_width": ""
      }
     },
     "ab74da27205b4870aad4011d8d3dee06": {
      "model_module": "@jupyter-widgets/controls",
      "model_module_version": "1.5.0",
      "model_name": "DescriptionStyleModel",
      "state": {
       "_model_module": "@jupyter-widgets/controls",
       "_model_module_version": "1.5.0",
       "_model_name": "DescriptionStyleModel",
       "_view_count": null,
       "_view_module": "@jupyter-widgets/base",
       "_view_module_version": "1.2.0",
       "_view_name": "StyleView",
       "description_width": ""
      }
     },
     "af83a9a0ae9e4b9a8ed9bc2b866a69be": {
      "model_module": "@jupyter-widgets/base",
      "model_module_version": "1.2.0",
      "model_name": "LayoutModel",
      "state": {
       "_model_module": "@jupyter-widgets/base",
       "_model_module_version": "1.2.0",
       "_model_name": "LayoutModel",
       "_view_count": null,
       "_view_module": "@jupyter-widgets/base",
       "_view_module_version": "1.2.0",
       "_view_name": "LayoutView",
       "align_content": null,
       "align_items": null,
       "align_self": null,
       "border": null,
       "bottom": null,
       "display": null,
       "flex": null,
       "flex_flow": null,
       "grid_area": null,
       "grid_auto_columns": null,
       "grid_auto_flow": null,
       "grid_auto_rows": null,
       "grid_column": null,
       "grid_gap": null,
       "grid_row": null,
       "grid_template_areas": null,
       "grid_template_columns": null,
       "grid_template_rows": null,
       "height": null,
       "justify_content": null,
       "justify_items": null,
       "left": null,
       "margin": null,
       "max_height": null,
       "max_width": null,
       "min_height": null,
       "min_width": null,
       "object_fit": null,
       "object_position": null,
       "order": null,
       "overflow": null,
       "overflow_x": null,
       "overflow_y": null,
       "padding": null,
       "right": null,
       "top": null,
       "visibility": null,
       "width": null
      }
     },
     "b0a20eeeaf194605a0ca18ae41aa4abc": {
      "model_module": "@jupyter-widgets/controls",
      "model_module_version": "1.5.0",
      "model_name": "FloatProgressModel",
      "state": {
       "_dom_classes": [],
       "_model_module": "@jupyter-widgets/controls",
       "_model_module_version": "1.5.0",
       "_model_name": "FloatProgressModel",
       "_view_count": null,
       "_view_module": "@jupyter-widgets/controls",
       "_view_module_version": "1.5.0",
       "_view_name": "ProgressView",
       "bar_style": "success",
       "description": "",
       "description_tooltip": null,
       "layout": "IPY_MODEL_4295c177f0ce4017b766eddfbdec88fc",
       "max": 242065649.0,
       "min": 0.0,
       "orientation": "horizontal",
       "style": "IPY_MODEL_5f49f8e1c5cd4f3b8b715bdc7d0bb617",
       "value": 242065649.0
      }
     },
     "b725302d38b546c790cdd0bad02bb658": {
      "model_module": "@jupyter-widgets/controls",
      "model_module_version": "1.5.0",
      "model_name": "ProgressStyleModel",
      "state": {
       "_model_module": "@jupyter-widgets/controls",
       "_model_module_version": "1.5.0",
       "_model_name": "ProgressStyleModel",
       "_view_count": null,
       "_view_module": "@jupyter-widgets/base",
       "_view_module_version": "1.2.0",
       "_view_name": "StyleView",
       "bar_color": null,
       "description_width": ""
      }
     },
     "b998f1b2252b4dba989b7081d0855686": {
      "model_module": "@jupyter-widgets/controls",
      "model_module_version": "1.5.0",
      "model_name": "HTMLModel",
      "state": {
       "_dom_classes": [],
       "_model_module": "@jupyter-widgets/controls",
       "_model_module_version": "1.5.0",
       "_model_name": "HTMLModel",
       "_view_count": null,
       "_view_module": "@jupyter-widgets/controls",
       "_view_module_version": "1.5.0",
       "_view_name": "HTMLView",
       "description": "",
       "description_tooltip": null,
       "layout": "IPY_MODEL_6f8dd9dc9a7848ff8014c7201f615f91",
       "placeholder": "​",
       "style": "IPY_MODEL_a0b26a78e4a04c009a8f60c38877737e",
       "value": " 231M/231M [00:05&lt;00:00, 48.9MB/s]"
      }
     },
     "cb040e9acac94c82ba4172e9472ca929": {
      "model_module": "@jupyter-widgets/base",
      "model_module_version": "1.2.0",
      "model_name": "LayoutModel",
      "state": {
       "_model_module": "@jupyter-widgets/base",
       "_model_module_version": "1.2.0",
       "_model_name": "LayoutModel",
       "_view_count": null,
       "_view_module": "@jupyter-widgets/base",
       "_view_module_version": "1.2.0",
       "_view_name": "LayoutView",
       "align_content": null,
       "align_items": null,
       "align_self": null,
       "border": null,
       "bottom": null,
       "display": null,
       "flex": null,
       "flex_flow": null,
       "grid_area": null,
       "grid_auto_columns": null,
       "grid_auto_flow": null,
       "grid_auto_rows": null,
       "grid_column": null,
       "grid_gap": null,
       "grid_row": null,
       "grid_template_areas": null,
       "grid_template_columns": null,
       "grid_template_rows": null,
       "height": null,
       "justify_content": null,
       "justify_items": null,
       "left": null,
       "margin": null,
       "max_height": null,
       "max_width": null,
       "min_height": null,
       "min_width": null,
       "object_fit": null,
       "object_position": null,
       "order": null,
       "overflow": null,
       "overflow_x": null,
       "overflow_y": null,
       "padding": null,
       "right": null,
       "top": null,
       "visibility": null,
       "width": null
      }
     },
     "cc286c5fd9954db6ba569b6a6033fbee": {
      "model_module": "@jupyter-widgets/controls",
      "model_module_version": "1.5.0",
      "model_name": "FloatProgressModel",
      "state": {
       "_dom_classes": [],
       "_model_module": "@jupyter-widgets/controls",
       "_model_module_version": "1.5.0",
       "_model_name": "FloatProgressModel",
       "_view_count": null,
       "_view_module": "@jupyter-widgets/controls",
       "_view_module_version": "1.5.0",
       "_view_name": "ProgressView",
       "bar_style": "success",
       "description": "",
       "description_tooltip": null,
       "layout": "IPY_MODEL_cb040e9acac94c82ba4172e9472ca929",
       "max": 1197.0,
       "min": 0.0,
       "orientation": "horizontal",
       "style": "IPY_MODEL_2268e5b35ce14e12b7bbe88fa3112667",
       "value": 1197.0
      }
     },
     "d0de16bce5e6470aa96e28fe2e244391": {
      "model_module": "@jupyter-widgets/controls",
      "model_module_version": "1.5.0",
      "model_name": "HBoxModel",
      "state": {
       "_dom_classes": [],
       "_model_module": "@jupyter-widgets/controls",
       "_model_module_version": "1.5.0",
       "_model_name": "HBoxModel",
       "_view_count": null,
       "_view_module": "@jupyter-widgets/controls",
       "_view_module_version": "1.5.0",
       "_view_name": "HBoxView",
       "box_style": "",
       "children": [
        "IPY_MODEL_aa3ad772a02e437e877edaad54006e0d",
        "IPY_MODEL_9f359a7ca4314ad1bf26f13811dacf1a",
        "IPY_MODEL_670337dc43264cabb07222956ed4e511"
       ],
       "layout": "IPY_MODEL_6faee0bc0fa74058b6b19096dbb03bd7"
      }
     },
     "e0ef833157774bdbb7e6c354ab07a855": {
      "model_module": "@jupyter-widgets/base",
      "model_module_version": "1.2.0",
      "model_name": "LayoutModel",
      "state": {
       "_model_module": "@jupyter-widgets/base",
       "_model_module_version": "1.2.0",
       "_model_name": "LayoutModel",
       "_view_count": null,
       "_view_module": "@jupyter-widgets/base",
       "_view_module_version": "1.2.0",
       "_view_name": "LayoutView",
       "align_content": null,
       "align_items": null,
       "align_self": null,
       "border": null,
       "bottom": null,
       "display": null,
       "flex": null,
       "flex_flow": null,
       "grid_area": null,
       "grid_auto_columns": null,
       "grid_auto_flow": null,
       "grid_auto_rows": null,
       "grid_column": null,
       "grid_gap": null,
       "grid_row": null,
       "grid_template_areas": null,
       "grid_template_columns": null,
       "grid_template_rows": null,
       "height": null,
       "justify_content": null,
       "justify_items": null,
       "left": null,
       "margin": null,
       "max_height": null,
       "max_width": null,
       "min_height": null,
       "min_width": null,
       "object_fit": null,
       "object_position": null,
       "order": null,
       "overflow": null,
       "overflow_x": null,
       "overflow_y": null,
       "padding": null,
       "right": null,
       "top": null,
       "visibility": null,
       "width": null
      }
     },
     "e2fc0a079bef491d8c3f8c94f360fe2e": {
      "model_module": "@jupyter-widgets/base",
      "model_module_version": "1.2.0",
      "model_name": "LayoutModel",
      "state": {
       "_model_module": "@jupyter-widgets/base",
       "_model_module_version": "1.2.0",
       "_model_name": "LayoutModel",
       "_view_count": null,
       "_view_module": "@jupyter-widgets/base",
       "_view_module_version": "1.2.0",
       "_view_name": "LayoutView",
       "align_content": null,
       "align_items": null,
       "align_self": null,
       "border": null,
       "bottom": null,
       "display": null,
       "flex": null,
       "flex_flow": null,
       "grid_area": null,
       "grid_auto_columns": null,
       "grid_auto_flow": null,
       "grid_auto_rows": null,
       "grid_column": null,
       "grid_gap": null,
       "grid_row": null,
       "grid_template_areas": null,
       "grid_template_columns": null,
       "grid_template_rows": null,
       "height": null,
       "justify_content": null,
       "justify_items": null,
       "left": null,
       "margin": null,
       "max_height": null,
       "max_width": null,
       "min_height": null,
       "min_width": null,
       "object_fit": null,
       "object_position": null,
       "order": null,
       "overflow": null,
       "overflow_x": null,
       "overflow_y": null,
       "padding": null,
       "right": null,
       "top": null,
       "visibility": null,
       "width": null
      }
     },
     "e4b2f692c04341de8f4679256d9cd9ed": {
      "model_module": "@jupyter-widgets/controls",
      "model_module_version": "1.5.0",
      "model_name": "HTMLModel",
      "state": {
       "_dom_classes": [],
       "_model_module": "@jupyter-widgets/controls",
       "_model_module_version": "1.5.0",
       "_model_name": "HTMLModel",
       "_view_count": null,
       "_view_module": "@jupyter-widgets/controls",
       "_view_module_version": "1.5.0",
       "_view_name": "HTMLView",
       "description": "",
       "description_tooltip": null,
       "layout": "IPY_MODEL_90a2d0e7d4954891a818805be5ab5745",
       "placeholder": "​",
       "style": "IPY_MODEL_6b96365fc5d941e889b2f54260b6bee0",
       "value": " 1.17k/1.17k [00:00&lt;00:00, 47.2kB/s]"
      }
     },
     "edb99927d3f846408f73e0b909d642f5": {
      "model_module": "@jupyter-widgets/controls",
      "model_module_version": "1.5.0",
      "model_name": "HTMLModel",
      "state": {
       "_dom_classes": [],
       "_model_module": "@jupyter-widgets/controls",
       "_model_module_version": "1.5.0",
       "_model_name": "HTMLModel",
       "_view_count": null,
       "_view_module": "@jupyter-widgets/controls",
       "_view_module_version": "1.5.0",
       "_view_name": "HTMLView",
       "description": "",
       "description_tooltip": null,
       "layout": "IPY_MODEL_af83a9a0ae9e4b9a8ed9bc2b866a69be",
       "placeholder": "​",
       "style": "IPY_MODEL_ab74da27205b4870aad4011d8d3dee06",
       "value": " 1.32M/1.32M [00:00&lt;00:00, 3.79MB/s]"
      }
     },
     "f11acb35fa3540ab9c308174d7e2fe6b": {
      "model_module": "@jupyter-widgets/controls",
      "model_module_version": "1.5.0",
      "model_name": "HTMLModel",
      "state": {
       "_dom_classes": [],
       "_model_module": "@jupyter-widgets/controls",
       "_model_module_version": "1.5.0",
       "_model_name": "HTMLModel",
       "_view_count": null,
       "_view_module": "@jupyter-widgets/controls",
       "_view_module_version": "1.5.0",
       "_view_name": "HTMLView",
       "description": "",
       "description_tooltip": null,
       "layout": "IPY_MODEL_a565c947f0b641b9b12a95edbe00b705",
       "placeholder": "​",
       "style": "IPY_MODEL_8036c2d9bcb74ad1a6963981de6e2b1f",
       "value": "Downloading: 100%"
      }
     },
     "f1e509c5fa144fb0a51d2c63b52e4524": {
      "model_module": "@jupyter-widgets/base",
      "model_module_version": "1.2.0",
      "model_name": "LayoutModel",
      "state": {
       "_model_module": "@jupyter-widgets/base",
       "_model_module_version": "1.2.0",
       "_model_name": "LayoutModel",
       "_view_count": null,
       "_view_module": "@jupyter-widgets/base",
       "_view_module_version": "1.2.0",
       "_view_name": "LayoutView",
       "align_content": null,
       "align_items": null,
       "align_self": null,
       "border": null,
       "bottom": null,
       "display": null,
       "flex": null,
       "flex_flow": null,
       "grid_area": null,
       "grid_auto_columns": null,
       "grid_auto_flow": null,
       "grid_auto_rows": null,
       "grid_column": null,
       "grid_gap": null,
       "grid_row": null,
       "grid_template_areas": null,
       "grid_template_columns": null,
       "grid_template_rows": null,
       "height": null,
       "justify_content": null,
       "justify_items": null,
       "left": null,
       "margin": null,
       "max_height": null,
       "max_width": null,
       "min_height": null,
       "min_width": null,
       "object_fit": null,
       "object_position": null,
       "order": null,
       "overflow": null,
       "overflow_x": null,
       "overflow_y": null,
       "padding": null,
       "right": null,
       "top": null,
       "visibility": null,
       "width": null
      }
     },
     "f49ea2d1581243a5b89241000063bc4e": {
      "model_module": "@jupyter-widgets/base",
      "model_module_version": "1.2.0",
      "model_name": "LayoutModel",
      "state": {
       "_model_module": "@jupyter-widgets/base",
       "_model_module_version": "1.2.0",
       "_model_name": "LayoutModel",
       "_view_count": null,
       "_view_module": "@jupyter-widgets/base",
       "_view_module_version": "1.2.0",
       "_view_name": "LayoutView",
       "align_content": null,
       "align_items": null,
       "align_self": null,
       "border": null,
       "bottom": null,
       "display": null,
       "flex": null,
       "flex_flow": null,
       "grid_area": null,
       "grid_auto_columns": null,
       "grid_auto_flow": null,
       "grid_auto_rows": null,
       "grid_column": null,
       "grid_gap": null,
       "grid_row": null,
       "grid_template_areas": null,
       "grid_template_columns": null,
       "grid_template_rows": null,
       "height": null,
       "justify_content": null,
       "justify_items": null,
       "left": null,
       "margin": null,
       "max_height": null,
       "max_width": null,
       "min_height": null,
       "min_width": null,
       "object_fit": null,
       "object_position": null,
       "order": null,
       "overflow": null,
       "overflow_x": null,
       "overflow_y": null,
       "padding": null,
       "right": null,
       "top": null,
       "visibility": null,
       "width": null
      }
     },
     "fd37cc61e50442e3ac6b61d9921845f2": {
      "model_module": "@jupyter-widgets/controls",
      "model_module_version": "1.5.0",
      "model_name": "HBoxModel",
      "state": {
       "_dom_classes": [],
       "_model_module": "@jupyter-widgets/controls",
       "_model_module_version": "1.5.0",
       "_model_name": "HBoxModel",
       "_view_count": null,
       "_view_module": "@jupyter-widgets/controls",
       "_view_module_version": "1.5.0",
       "_view_name": "HBoxView",
       "box_style": "",
       "children": [
        "IPY_MODEL_f11acb35fa3540ab9c308174d7e2fe6b",
        "IPY_MODEL_b0a20eeeaf194605a0ca18ae41aa4abc",
        "IPY_MODEL_b998f1b2252b4dba989b7081d0855686"
       ],
       "layout": "IPY_MODEL_e0ef833157774bdbb7e6c354ab07a855"
      }
     }
    },
    "version_major": 2,
    "version_minor": 0
   }
  }
 },
 "nbformat": 4,
 "nbformat_minor": 5
}
